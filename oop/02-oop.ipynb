{
 "cells": [
  {
   "cell_type": "markdown",
   "metadata": {
    "collapsed": true
   },
   "source": [
    "print()\n",
    "\n",
    "#0.00P.Python面向对象\n",
    "-Python的面向对象\n",
    "-面向对象编程\n",
    "    -基础\n",
    "    -公有私有\n",
    "    -继承\n",
    "    -组合.Minxi\n",
    "-魔法函数\n",
    "    -魔法函数概念\n",
    "    -构造类魔法函数\n",
    "    -运算类魔法函数\n",
    "\n",
    "#1 面向对象概述（ObjectOriented.00)d\n",
    "\n"
   ]
  },
  {
   "cell_type": "code",
   "execution_count": null,
   "metadata": {},
   "outputs": [],
   "source": [
    "print(\"hell0\")"
   ]
  }
 ],
 "metadata": {
  "kernelspec": {
   "display_name": "Python 2",
   "language": "python",
   "name": "python2"
  },
  "language_info": {
   "codemirror_mode": {
    "name": "ipython",
    "version": 2
   },
   "file_extension": ".py",
   "mimetype": "text/x-python",
   "name": "python",
   "nbconvert_exporter": "python",
   "pygments_lexer": "ipython2",
   "version": "2.7.6"
  }
 },
 "nbformat": 4,
 "nbformat_minor": 0
}
